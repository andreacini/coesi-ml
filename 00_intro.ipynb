{
 "cells": [
  {
   "cell_type": "markdown",
   "metadata": {
    "colab_type": "text",
    "id": "view-in-github"
   },
   "source": [
    "<a href=\"https://colab.research.google.com/github/andreacini/coesi-ml/blob/master/00_intro.ipynb\" target=\"_parent\"><img src=\"https://colab.research.google.com/assets/colab-badge.svg\" alt=\"Open In Colab\"/></a>"
   ]
  },
  {
   "cell_type": "markdown",
   "metadata": {
    "colab_type": "text",
    "id": "kUod4PhQEUz1"
   },
   "source": [
    "## Intro to Python\n",
    "\n",
    "Python is an interpreted, dynamically typed, managed scripting language developed by Guido van Rossum in the early 90's. \n",
    "Python acts as a high-level interface to a low-level interpreter written in C, and is built for fast prototyping and readable code.\n",
    "\n",
    "\n",
    "The fact that the Python is interpreted, makes it less performant than compiled languages. \n",
    "However, because Python's interpreter is C-based, programmers can build extensions in C and move high-load functions to external, compiled modules. \n",
    "\n",
    "For this reason, in recent years Python has gained a lot of popularity with the scientific community, due to a great number of useful libraries for scientific computing that work at C-like speed, and offer a high-level interface in Python."
   ]
  },
  {
   "cell_type": "code",
   "execution_count": null,
   "metadata": {
    "colab": {},
    "colab_type": "code",
    "id": "nUqVTs3aJICO"
   },
   "outputs": [],
   "source": [
    "# This is an inline comment. Anything after # is ignored by the interpreter\n",
    "\n",
    "a = 1          # Variable assignment\n",
    "b = 'string'   # This is a string\n",
    "c = 3.2        # This is a float\n",
    "d = True       # This is a bool\n",
    "e = [1, 2, 3]  # This is a list of integers\n",
    "f = {'a': 1}   # Hashmaps in Python are called dictionaries\n",
    "g = (1, 2, 3)  # Tuples are immutable lists (can't be modified)\n",
    "h = None       # This is a special object, equivalent to null in Java\n",
    "\n",
    "print('This is how you print a string to stdout')"
   ]
  },
  {
   "cell_type": "markdown",
   "metadata": {
    "colab_type": "text",
    "id": "leVVvmzGKzns"
   },
   "source": [
    "### More on data structures"
   ]
  },
  {
   "cell_type": "code",
   "execution_count": null,
   "metadata": {
    "colab": {},
    "colab_type": "code",
    "id": "WouHzi0fKsDO"
   },
   "outputs": [],
   "source": [
    "i = [1, 2.0, ['a', 'b', 5], 6]  # This list contains mixed-type elements\n",
    "print(i[2])                     # This is how you access a data struct\n",
    "print(i[2:4])                   # Lists and tuples support slicing (start inclusive, end exclusive)\n",
    "\n",
    "f[123] = 'onetwothree'          # Anything can be a dictionary key\n",
    "print(f)"
   ]
  },
  {
   "cell_type": "markdown",
   "metadata": {
    "colab_type": "text",
    "id": "A7Tzcab-Llq0"
   },
   "source": [
    "### Dynamic typing"
   ]
  },
  {
   "cell_type": "code",
   "execution_count": null,
   "metadata": {
    "colab": {},
    "colab_type": "code",
    "id": "hjnJMyAuLidy"
   },
   "outputs": [],
   "source": [
    "a = 10.        # Now a contains a float...\n",
    "a = [1, 2, 3]  # ...and now a list of integers.\n",
    "a = (1, 2, 3)  # Variables are just pointers to objects in memory"
   ]
  },
  {
   "cell_type": "markdown",
   "metadata": {
    "colab_type": "text",
    "id": "Mjku9FI9LxDn"
   },
   "source": [
    "### Control statements"
   ]
  },
  {
   "cell_type": "code",
   "execution_count": null,
   "metadata": {
    "colab": {},
    "colab_type": "code",
    "id": "J6LKhjEJLwaR"
   },
   "outputs": [],
   "source": [
    "# For loop behaves as a foreach\n",
    "for i in [1, 2, 3]:\n",
    "    # After a ':', code must be indented\n",
    "    print(i)\n",
    "\n",
    "# While loop\n",
    "a = 10\n",
    "while a > 0:  # Other operators: >=, <=, <, >, ==, !=\n",
    "    a = a - 1\n",
    "\n",
    "# If - else if - else\n",
    "if a == 0:\n",
    "    print('Zero')\n",
    "elif a < 0:\n",
    "    print('Negative')\n",
    "else:\n",
    "    print('Positive')\n",
    "    \n",
    "if not a == 0:  # 'not' is the keyword for negation\n",
    "    print('a is not 0')\n"
   ]
  },
  {
   "cell_type": "markdown",
   "metadata": {
    "colab_type": "text",
    "id": "axKu1SmiMH_N"
   },
   "source": [
    "### Functions"
   ]
  },
  {
   "cell_type": "code",
   "execution_count": null,
   "metadata": {
    "colab": {},
    "colab_type": "code",
    "id": "UgZmX7KnMLNw"
   },
   "outputs": [],
   "source": [
    "def foo(x):\n",
    "    print(x)\n",
    "    \n",
    "# This is a function with optional parameters\n",
    "def bar(x, optional=1):\n",
    "    print(x, optional)\n",
    "\n",
    "bar(1)              # Prints 1 1\n",
    "bar(1, optional=2)  # Prints 1 2"
   ]
  },
  {
   "cell_type": "markdown",
   "metadata": {
    "colab_type": "text",
    "id": "C80a9yVyPXOd"
   },
   "source": [
    "### Importing external libraries\n",
    "The true power of Python lies in the vast amount of libraries that are available to developers."
   ]
  },
  {
   "cell_type": "code",
   "execution_count": null,
   "metadata": {
    "colab": {},
    "colab_type": "code",
    "id": "c15oCuXTPmkd"
   },
   "outputs": [],
   "source": [
    "import math  # Import the library (or \"module\") called \"math\"\n",
    "print(math.cos(1))\n",
    "\n",
    "from math import cos  # Import a single function from a module\n",
    "print(cos(1))\n",
    "\n",
    "import math as m  # Import a module and rename it\n",
    "m.cos(1)"
   ]
  },
  {
   "cell_type": "markdown",
   "metadata": {
    "colab_type": "text",
    "id": "rQjgtDHESVru"
   },
   "source": [
    "## Intro to Numpy\n",
    "The main library that we are going to use in the course is called Numpy, which the most popular Python library for scientific computing and array manipulation.   \n",
    "This notebook contains a primer on how to use some basic functions of Numpy."
   ]
  },
  {
   "cell_type": "code",
   "execution_count": null,
   "metadata": {
    "colab": {},
    "colab_type": "code",
    "id": "HMIpdm4kRWb0"
   },
   "outputs": [],
   "source": [
    "import numpy as np"
   ]
  },
  {
   "cell_type": "markdown",
   "metadata": {
    "colab_type": "text",
    "id": "5DWwQO0HRWb3"
   },
   "source": [
    "## Numpy arrays\n",
    "\n",
    "The building block of numpy is the `ndarray`,  short for \"n-dimensional array\". Arrays in Numpy are objects with three main properties: \n",
    "1. data\n",
    "2. shape\n",
    "3. data type\n",
    "\n",
    "To create an array, we use the `np.array` constructor. "
   ]
  },
  {
   "cell_type": "code",
   "execution_count": null,
   "metadata": {
    "colab": {},
    "colab_type": "code",
    "id": "ZJbIb7H6RWb4"
   },
   "outputs": [],
   "source": [
    "a = np.array([1, 2, 3])\n",
    "\n",
    "print('Data:  ', a)\n",
    "print('Shape: ', a.shape)\n",
    "print('Type:  ', a.dtype)"
   ]
  },
  {
   "cell_type": "markdown",
   "metadata": {
    "colab_type": "text",
    "id": "k_44YZSGV_Tn"
   },
   "source": [
    "We can also create arrays with a higher number of dimensions. An array with shape `(n, m)` is represented in classical notation with $\\mathbb{R}^{n \\times m}$."
   ]
  },
  {
   "cell_type": "code",
   "execution_count": null,
   "metadata": {
    "colab": {},
    "colab_type": "code",
    "id": "dt-5JWQmRWb8"
   },
   "outputs": [],
   "source": [
    "b = np.array([[1., 2., 3.], \n",
    "              [4., 5., 6.]])\n",
    "\n",
    "print('Data:  ')\n",
    "print(b)\n",
    "print('Shape: ', b.shape)\n",
    "print('Type:  ', b.dtype)"
   ]
  },
  {
   "cell_type": "markdown",
   "metadata": {
    "colab_type": "text",
    "id": "QzIYlHMXYV2q"
   },
   "source": [
    "Data, shape, and type af an array can be manipulated (obviously, we are mostly interested in manipulating the data, but the other two can be very important)."
   ]
  },
  {
   "cell_type": "code",
   "execution_count": null,
   "metadata": {
    "colab": {},
    "colab_type": "code",
    "id": "_mtr6vRsYxIj"
   },
   "outputs": [],
   "source": [
    "a = np.array([0, 1, 2, 3, 4, 5, 6, 7, 8])\n",
    "print('Original:    ', a)\n",
    "\n",
    "# Edit data\n",
    "a[2] = 9\n",
    "print('Change data: ', a)\n",
    "\n",
    "# Edit shape\n",
    "print('Change shape to (3, 3):')\n",
    "print(a.reshape((3, 3)))\n",
    "\n",
    "# Change type\n",
    "print('Change type: ', a.astype(np.float))"
   ]
  },
  {
   "cell_type": "markdown",
   "metadata": {
    "colab_type": "text",
    "id": "WS6ujOsiuJ2m"
   },
   "source": [
    "Arrays can be accessed like lists, but support an advanced slicing operator that allows for complex behaviours."
   ]
  },
  {
   "cell_type": "code",
   "execution_count": null,
   "metadata": {
    "colab": {},
    "colab_type": "code",
    "id": "Jl9qoDXZuWGR"
   },
   "outputs": [],
   "source": [
    "a = np.array([1, 2, 3, 4, 5, 6, 7, 8, 9]).reshape((3, 3))\n",
    "\n",
    "# Access element 0, 0\n",
    "print(a[0, 0])"
   ]
  },
  {
   "cell_type": "code",
   "execution_count": null,
   "metadata": {
    "colab": {},
    "colab_type": "code",
    "id": "J-qQCxBju5YX"
   },
   "outputs": [],
   "source": [
    "# Access first row\n",
    "print(a[0])"
   ]
  },
  {
   "cell_type": "code",
   "execution_count": null,
   "metadata": {
    "colab": {},
    "colab_type": "code",
    "id": "KYA5izk-u6oK"
   },
   "outputs": [],
   "source": [
    "# Access first column\n",
    "print(a[:, 0:1])"
   ]
  },
  {
   "cell_type": "code",
   "execution_count": null,
   "metadata": {
    "colab": {},
    "colab_type": "code",
    "id": "zTUcsC-Mu7tD"
   },
   "outputs": [],
   "source": [
    "# Access 2 x 2 submatrix\n",
    "print(a[0:2, 0:2])"
   ]
  },
  {
   "cell_type": "markdown",
   "metadata": {
    "colab_type": "text",
    "id": "bmlB1JnFa-H_"
   },
   "source": [
    "## Numpy operations\n",
    "Numpy implements hundreds of useful mathematical operations on and between arrays. \n",
    "\n",
    "### Operations on arrays\n",
    "\n",
    "Unary operations on arrays are applied element-wise, i.e., evaluated for each number saved in the array. Shape is usually not affected by unary operations, but type might. "
   ]
  },
  {
   "cell_type": "code",
   "execution_count": null,
   "metadata": {
    "colab": {},
    "colab_type": "code",
    "id": "T6zhXrkecCYj"
   },
   "outputs": [],
   "source": [
    "import matplotlib.pyplot as plt\n",
    "\n",
    "# Create a sequence of 1000 floats equally spaced between 0 and 2pi\n",
    "x = np.linspace(0, 2 * np.pi, 1000)\n"
   ]
  },
  {
   "cell_type": "markdown",
   "metadata": {
    "colab_type": "text",
    "id": "m8YXAWdk0Yu7"
   },
   "source": [
    "This how we compute the sine function at all points defined in `x`."
   ]
  },
  {
   "cell_type": "code",
   "execution_count": null,
   "metadata": {
    "colab": {},
    "colab_type": "code",
    "id": "F-D9ZK6p0X7t"
   },
   "outputs": [],
   "source": [
    "y = np.sin(x)\n",
    "plt.plot(x, y);  # Plot a line graph built using (x[i], y[i]) pairs"
   ]
  },
  {
   "cell_type": "markdown",
   "metadata": {
    "colab_type": "text",
    "id": "IStSMhG70eR8"
   },
   "source": [
    "And similarly, $e^x$."
   ]
  },
  {
   "cell_type": "code",
   "execution_count": null,
   "metadata": {
    "colab": {},
    "colab_type": "code",
    "id": "eleIv243c4Ja"
   },
   "outputs": [],
   "source": [
    "y = np.exp(x)\n",
    "plt.plot(x, y);"
   ]
  },
  {
   "cell_type": "markdown",
   "metadata": {
    "colab_type": "text",
    "id": "ymf97J5h0kui"
   },
   "source": [
    "Numpy offers a very large collection of functions."
   ]
  },
  {
   "cell_type": "code",
   "execution_count": null,
   "metadata": {
    "colab": {},
    "colab_type": "code",
    "id": "CmJlDJ25dGW6"
   },
   "outputs": [],
   "source": [
    "y = np.square(x)   # Square\n",
    "y = np.sqrt(x)     # Square root\n",
    "y = np.floor(x)    # Flooring\n",
    "y = np.power(x, 3) # Exponentiation\n",
    "y = np.tan(x)      # Tangent\n",
    "y = np.arctan(x)   # Arctangent\n",
    "y = np.tanh(x)     # Hyperbolic tangent"
   ]
  },
  {
   "cell_type": "markdown",
   "metadata": {
    "colab_type": "text",
    "id": "Tta226gOhSrd"
   },
   "source": [
    "Arrays also support advanced manipulation via a process called **broadcasting**.  \n",
    "The following is a valid expression in Numpy, and gets evaluated at every point in the array x. This concept can also be applied to higher-rank arrays."
   ]
  },
  {
   "cell_type": "code",
   "execution_count": null,
   "metadata": {
    "colab": {},
    "colab_type": "code",
    "id": "NQ7zO2D1ik-o"
   },
   "outputs": [],
   "source": [
    "y = x + 2  # 2 gets summed to every point in x\n",
    "plt.plot(x, y)"
   ]
  },
  {
   "cell_type": "markdown",
   "metadata": {
    "colab_type": "text",
    "id": "bjd4n5lniz29"
   },
   "source": [
    "This can be extended to arbitrarily complex functions!"
   ]
  },
  {
   "cell_type": "code",
   "execution_count": null,
   "metadata": {
    "colab": {},
    "colab_type": "code",
    "id": "Ei-j36uNhgSu"
   },
   "outputs": [],
   "source": [
    "y = np.sin(x ** 2 + 3) + 3 * np.cos(x)\n",
    "plt.plot(x, y);"
   ]
  },
  {
   "cell_type": "markdown",
   "metadata": {
    "colab_type": "text",
    "id": "-mpyU8xgvX3J"
   },
   "source": [
    "### Operations between arrays\n",
    "Operations can also be computed between two or more arrays.  \n",
    "There are two equivalent notations to compute the dot product between arrays in Numpy."
   ]
  },
  {
   "cell_type": "code",
   "execution_count": null,
   "metadata": {
    "colab": {},
    "colab_type": "code",
    "id": "pplAIsswvilH"
   },
   "outputs": [],
   "source": [
    "# 1D arrays\n",
    "x = np.arange(9)\n",
    "y = np.arange(9)\n",
    "\n",
    "# Dot product\n",
    "xy = np.dot(x, y)\n",
    "xy = x.dot(y)\n",
    "\n",
    "print(xy)"
   ]
  },
  {
   "cell_type": "markdown",
   "metadata": {
    "colab_type": "text",
    "id": "-N8dV8MdwmTe"
   },
   "source": [
    "The same can be done for matrices."
   ]
  },
  {
   "cell_type": "code",
   "execution_count": null,
   "metadata": {
    "colab": {},
    "colab_type": "code",
    "id": "xIprDvRSv9_F"
   },
   "outputs": [],
   "source": [
    "# 2D arrays\n",
    "v = np.arange(9).reshape((3, 3))\n",
    "w = np.arange(9).reshape((3, 3))\n",
    "\n",
    "# Matrix multiplication between square matrices\n",
    "vw = v.dot(w)\n",
    "print(vw)"
   ]
  },
  {
   "cell_type": "markdown",
   "metadata": {
    "colab_type": "text",
    "id": "ACTpSvppxBNK"
   },
   "source": [
    "When multiplying non-square matrices, we have to be sure that their dimensions are aligned properly."
   ]
  },
  {
   "cell_type": "code",
   "execution_count": null,
   "metadata": {
    "colab": {},
    "colab_type": "code",
    "id": "uEMGozwMw2I4"
   },
   "outputs": [],
   "source": [
    "# Define two non-square matrices\n",
    "v = np.arange(6).reshape((3, 2))\n",
    "w = np.arange(6).reshape((3, 2))"
   ]
  },
  {
   "cell_type": "code",
   "execution_count": null,
   "metadata": {
    "colab": {},
    "colab_type": "code",
    "id": "L0fM3hA0xSJq"
   },
   "outputs": [],
   "source": [
    "# This will crash\n",
    "try:\n",
    "    vw = v.dot(w)\n",
    "except ValueError as e:\n",
    "    print('ValueError:', e)"
   ]
  },
  {
   "cell_type": "code",
   "execution_count": null,
   "metadata": {
    "colab": {},
    "colab_type": "code",
    "id": "GB4mCXkyxTtq"
   },
   "outputs": [],
   "source": [
    "# Transpose the second matrix with w.T to compute the correct product\n",
    "vw = v.dot(w.T)\n",
    "print(vw)"
   ]
  },
  {
   "cell_type": "markdown",
   "metadata": {
    "colab_type": "text",
    "id": "5aP0ls_3_iz_"
   },
   "source": [
    "Note that the usual multiplication opertaror does not work as a dot product, but as an element-wise operator. The same holds for `+`, `-`, and `/`."
   ]
  },
  {
   "cell_type": "code",
   "execution_count": null,
   "metadata": {
    "colab": {},
    "colab_type": "code",
    "id": "hc2Nlly0_tNF"
   },
   "outputs": [],
   "source": [
    "# Element-wise multiplication\n",
    "v = np.arange(9)\n",
    "w = np.arange(9)\n",
    "print(v + w)\n",
    "print(v * w)"
   ]
  },
  {
   "cell_type": "markdown",
   "metadata": {
    "colab_type": "text",
    "id": "k-NBLf0G1-po"
   },
   "source": [
    "Arrays can be stacked or concatenated together in several ways, along different **axes**."
   ]
  },
  {
   "cell_type": "code",
   "execution_count": null,
   "metadata": {
    "colab": {},
    "colab_type": "code",
    "id": "UUPx7kx_2KMf"
   },
   "outputs": [],
   "source": [
    "import numpy as np\n",
    "\n",
    "a = np.arange(9)\n",
    "b = np.arange(9)\n",
    "\n",
    "# Concatenate together\n",
    "print('Concatenated')\n",
    "ab = np.concatenate((a, b))\n",
    "print(ab)\n",
    "\n",
    "# Stack as a matrix\n",
    "print('Stacked rows')\n",
    "ab = np.vstack((a, b))  # Short for \"vertical stack\"\n",
    "print(ab)\n",
    "\n",
    "# Stack two column vectors\n",
    "print('Stacked columns')\n",
    "a = a.reshape((9, 1))   # Column vector\n",
    "b = b.reshape((9, 1))   # Column vector\n",
    "ab = np.hstack((a, b))  # Short for \"horizontal stack\"\n",
    "print(ab)"
   ]
  },
  {
   "cell_type": "markdown",
   "metadata": {},
   "source": [
    "## Example\n",
    "\n",
    "Solve the following linear system using the inverse matrix method:\n",
    "\n",
    "\\begin{aligned}\n",
    "\t\t-x + 3y + z &= 1 \\\\\n",
    "\t\t2x + 5y &= 3 \\\\\n",
    "\t\t3x + y - 2z &= -2\n",
    "\\end{aligned}\t\t"
   ]
  },
  {
   "cell_type": "markdown",
   "metadata": {
    "colab_type": "text",
    "id": "_UlI7Mz43UEM"
   },
   "source": [
    "## Resources\n",
    "\n",
    "- Python docs: [https://docs.python.org/](https://docs.python.org/)\n",
    "- [Python cheat sheet](https://perso.limsi.fr/pointal/_media/python:cours:mementopython3-english.pdf)\n",
    "- Numpy docs: [https://docs.scipy.org/doc/numpy/](https://docs.scipy.org/doc/numpy/)\n",
    "- [Cheat sheet for several scientific libraries](https://github.com/kailashahirwar/cheatsheets-ai/) (AI-oriented)\n"
   ]
  },
  {
   "cell_type": "code",
   "execution_count": null,
   "metadata": {},
   "outputs": [],
   "source": []
  }
 ],
 "metadata": {
  "colab": {
   "collapsed_sections": [
    "leVVvmzGKzns",
    "A7Tzcab-Llq0",
    "Mjku9FI9LxDn",
    "axKu1SmiMH_N",
    "UU9pJprHMM7W",
    "4Bwb_OORNJf1",
    "C80a9yVyPXOd",
    "rQjgtDHESVru",
    "5DWwQO0HRWb3",
    "bmlB1JnFa-H_"
   ],
   "include_colab_link": true,
   "name": "00_numpy_tutorial.ipynb",
   "provenance": [],
   "version": "0.3.2"
  },
  "kernelspec": {
   "display_name": "Python 3",
   "language": "python",
   "name": "python3"
  },
  "language_info": {
   "codemirror_mode": {
    "name": "ipython",
    "version": 3
   },
   "file_extension": ".py",
   "mimetype": "text/x-python",
   "name": "python",
   "nbconvert_exporter": "python",
   "pygments_lexer": "ipython3",
   "version": "3.7.4"
  }
 },
 "nbformat": 4,
 "nbformat_minor": 1
}
