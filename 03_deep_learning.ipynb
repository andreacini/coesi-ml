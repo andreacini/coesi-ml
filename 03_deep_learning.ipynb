{
 "cells": [
  {
   "cell_type": "markdown",
   "metadata": {
    "colab_type": "text",
    "id": "view-in-github"
   },
   "source": [
    "<a href=\"https://colab.research.google.com/github/andreacini/coesi-ml/blob/master/03_deep_learning.ipynb\" target=\"_parent\"><img src=\"https://colab.research.google.com/assets/colab-badge.svg\" alt=\"Open In Colab\"/></a>"
   ]
  },
  {
   "cell_type": "markdown",
   "metadata": {
    "colab_type": "text",
    "id": "RRuwG7zn_YO_"
   },
   "source": [
    "# Exercise 03: Classification and Deep Neural Networks\n",
    "\n",
    "In this lab we are going to focus on some practical aspects of building deep neural networks. \n",
    "\n",
    "We will focus on three main tasks: \n",
    "\n",
    "1. Building a **dense** classifier for images of numerical digits;\n",
    "2. Building a **convolutional** classifier for images of numerical digits;\n",
    "3. **Fine-tuning** a deep network to classify images of cats and dogs;\n",
    "\n",
    "We will use TF/Keras throughout this lab, but the same things can be done with little effort in any deep learning frameworks. As usual, we encourage you to try and implement everything on your own from scratch.\n",
    "\n",
    "Let's get started..."
   ]
  },
  {
   "cell_type": "markdown",
   "metadata": {
    "colab_type": "text",
    "id": "30RKBWXz_xAE"
   },
   "source": [
    "## MNIST\n",
    "\n",
    "The **Modified National Institute of Standards and Technology database** is a large collection of handwritten digits that is widely used in machine learning as a benchmark for computer vision algorithms.   \n",
    "The dataset consists of 70000 images of handwritted digits. All images are 28 pixels by 28 pixels, in 8-bit grayscale (i.e., each pixel is represented by an integer value in the 0-255 range), and are equally divided into 10 classes.\n",
    "\n",
    "MNIST is usually considered as a multi-class classification problem, where the goal is to map each image to its corresponding class. \n",
    "\n",
    "Although nowadays MNIST is regarded as solved, machine learning practitioners like to joke that while it's true that if something works on MNIST, it may not work in the real world, it is also true that if it **doesn't** work on MNIST, it will surely not work in the real world.\n",
    "\n",
    "\n",
    "Let's look at the data...\n",
    "\n",
    "\n",
    "\n"
   ]
  },
  {
   "cell_type": "code",
   "execution_count": null,
   "metadata": {
    "colab": {},
    "colab_type": "code",
    "id": "trKY2GuMtoBF"
   },
   "outputs": [],
   "source": [
    "import matplotlib.pyplot as plt\n",
    "import numpy as np\n",
    "import warnings\n",
    "warnings.filterwarnings(\"ignore\")\n",
    "\n",
    "np.random.seed(20)\n",
    "\n",
    "from keras.datasets import mnist\n",
    "\n",
    "# Load the data\n",
    "(x_train, y_train), (x_test, y_test) = mnist.load_data()"
   ]
  },
  {
   "cell_type": "code",
   "execution_count": null,
   "metadata": {},
   "outputs": [],
   "source": [
    "plt.figure(figsize=(15,5))\n",
    "plt.subplot(131)\n",
    "plt.imshow(x_train[4], cmap='gray')\n",
    "plt.axis('off')\n",
    "plt.subplot(132)\n",
    "plt.imshow(x_train[6], cmap='gray')\n",
    "plt.axis('off')\n",
    "plt.subplot(133)\n",
    "plt.imshow(x_train[7], cmap='gray');\n",
    "plt.axis('off')"
   ]
  },
  {
   "cell_type": "markdown",
   "metadata": {
    "colab_type": "text",
    "id": "GOftvishuRlz"
   },
   "source": [
    "## Dense classifier\n",
    "Now let's build a neural network with the tools that we have seen so far, i.e., using only dense layers.\n",
    "\n",
    "We start by pre-processing the images and reshaping them as vectors."
   ]
  },
  {
   "cell_type": "code",
   "execution_count": null,
   "metadata": {
    "colab": {},
    "colab_type": "code",
    "id": "IUXGWpOsuueT"
   },
   "outputs": [],
   "source": [
    "# Reshape to vectors\n",
    "x_train = x_train.reshape(-1, 28 * 28)  # shape: (60000, 784)\n",
    "x_test = x_test.reshape(-1, 28 * 28)    # shape: (10000, 784)\n",
    "\n",
    "# Normalize to 0-1 range\n",
    "x_train = x_train / 255.\n",
    "x_test = x_test / 255."
   ]
  },
  {
   "cell_type": "markdown",
   "metadata": {
    "colab_type": "text",
    "id": "T-T8mzp9u72X"
   },
   "source": [
    "We also have to pre-process our targets in order to perform multi-class classification. We will use **one-hot encoding** to represent our numerical labels (0-9) as sparse binary vectors. For instance, the one-hot encoding of label 3 will be $[0, 0, 0, 1, 0 ,0 ,0, 0, 0, 0]$."
   ]
  },
  {
   "cell_type": "code",
   "execution_count": null,
   "metadata": {
    "colab": {},
    "colab_type": "code",
    "id": "zD-HkP-evib0"
   },
   "outputs": [],
   "source": [
    "# Pre-process targets\n",
    "from keras import utils\n",
    "n_classes = 10\n",
    "y_train = utils.to_categorical(y_train, n_classes)\n",
    "y_test = utils.to_categorical(y_test, n_classes)"
   ]
  },
  {
   "cell_type": "markdown",
   "metadata": {
    "colab_type": "text",
    "id": "QfoJd8iKvi2l"
   },
   "source": [
    "Now we build a neural classifier using the same tools that we saw in the previous lab. Remember that we reshaped our inputs to be vectors, so we are in the same familiar setting as always.\n",
    "\n",
    "However, this time we will be dealing with multi-class classification, which means that our output layer will have 10 possible outputs instead of a single one.\n",
    "Moreover, the sigmoid activation function that we used in our previous binary classifiers will be replaced by the normalized **softmax** function, which will give us a **probability distribution** over the possible labels:\n",
    "\n",
    "$$\n",
    "\\sigma(z)_i = \\frac{e^{z_i}}{\\sum_{j=1}^{K} e^{z_j}}\n",
    "$$\n",
    "\n",
    "where $K$ is the number of classes that we have. "
   ]
  },
  {
   "cell_type": "code",
   "execution_count": null,
   "metadata": {
    "colab": {},
    "colab_type": "code",
    "id": "iYsaysq4v_mO"
   },
   "outputs": [],
   "source": [
    "from keras import Sequential\n",
    "from keras.layers import Dense\n",
    "from keras import optimizers\n",
    "\n",
    "# Build model\n",
    "\n",
    "model = Sequential()\n",
    "model.add(Dense(128, activation='tanh', input_shape=(28*28, )))\n",
    "model.add(Dense(n_classes, activation='softmax'))\n",
    "\n",
    "# Compile model\n",
    "model.compile(optimizer=optimizers.SGD(lr=0.01), \n",
    "              loss='categorical_crossentropy', \n",
    "              metrics=['accuracy'])\n",
    "model.summary()"
   ]
  },
  {
   "cell_type": "markdown",
   "metadata": {
    "colab_type": "text",
    "id": "wz8ikRFXwKn7"
   },
   "source": [
    "We can now train and evaluate the model using Keras' `fit` method. "
   ]
  },
  {
   "cell_type": "code",
   "execution_count": null,
   "metadata": {
    "colab": {},
    "colab_type": "code",
    "id": "NUDsIDiRwP_S"
   },
   "outputs": [],
   "source": [
    "# Train model\n",
    "batch_size = 32\n",
    "epochs = 10\n",
    "model.fit(x_train, \n",
    "          y_train, \n",
    "          batch_size=batch_size, \n",
    "          epochs=epochs, \n",
    "          validation_split=0.1)\n",
    "\n",
    "# Evaluate model\n",
    "scores = model.evaluate(x_test, y_test)\n",
    "print('Test loss: {} - Accuracy: {}'.format(*scores))"
   ]
  },
  {
   "cell_type": "markdown",
   "metadata": {
    "colab_type": "text",
    "id": "1xNoK7dVwYWB"
   },
   "source": [
    "So far, so good, right? Everything was in our domain of competence and we were able to build a pretty good classifier.\n",
    "\n",
    "However, we can easily see that our classifier is actually not as good as we think. In particular, we can show that the dense network does not have the property of **translation invariance**, meaning that if we move the content of our images around too much, the classifier quickly fails."
   ]
  },
  {
   "cell_type": "code",
   "execution_count": null,
   "metadata": {
    "colab": {},
    "colab_type": "code",
    "id": "sut8Ugzr-XPm"
   },
   "outputs": [],
   "source": [
    "# Take the test data and shift its contents to the right by p pixels\n",
    "p = 2\n",
    "x_test_roll = np.roll(x_test.reshape(-1, 28, 28), p, axis=-1)\n",
    "plt.subplot(121)\n",
    "plt.imshow(x_test[0].reshape(28, 28), cmap='gray')\n",
    "plt.subplot(122)\n",
    "plt.imshow(x_test_roll[0], cmap='gray');\n",
    "\n",
    "# Evaluate the model on the shifted data\n",
    "x_test_roll = x_test_roll.reshape(-1, 28 * 28)\n",
    "scores = model.evaluate(x_test_roll, y_test)\n",
    "print('Test loss: {} - Accuracy: {}'.format(*scores))"
   ]
  },
  {
   "cell_type": "markdown",
   "metadata": {
    "colab_type": "text",
    "id": "Lo0ou80gBDuS"
   },
   "source": [
    "## Convolutional neural networks\n",
    "\n",
    "To solve the issue of translation invariance, one possibility is to adopt **convolutional neural networks** (CNNs) instead of the classical dense ones. \n",
    "\n",
    "CNNs were first introduced by Kunihiko Fukushima in 1980, and were later popularized by Y. LeCun, when he successfully applied backpropagation to train CNNs on MNIST. \n",
    "\n",
    "![alt text](https://upload.wikimedia.org/wikipedia/commons/6/63/Typical_cnn.png)\n",
    "\n",
    "Let's re-build our classifier from scratch, using convolutional layers instead of fully connected ones. "
   ]
  },
  {
   "cell_type": "code",
   "execution_count": null,
   "metadata": {
    "colab": {},
    "colab_type": "code",
    "id": "UOD-ivnECrKZ"
   },
   "outputs": [],
   "source": [
    "# Load the data\n",
    "(x_train, y_train), (x_test, y_test) = mnist.load_data()"
   ]
  },
  {
   "cell_type": "markdown",
   "metadata": {
    "colab_type": "text",
    "id": "6di-USScCxa6"
   },
   "source": [
    "We still normalize the data to the 0-1 range, but this time we do not reshape the images into vectors. \n",
    "Instead, we add a new dimension which explicitly represents the different channels of our images. In the case of MNIST, we only have one 8-bit channel, so we only need to add a \"fake\" dimension at the of our data in order to have a 4D tensor of shape `(None, 28, 28, 1)`. \n",
    "If we had RGB images, they would be represented as tensors of shape `(None, 28, 28, 3)`.\n",
    "\n",
    "We also one-hot encode the labels as we did before.\n"
   ]
  },
  {
   "cell_type": "code",
   "execution_count": null,
   "metadata": {
    "colab": {},
    "colab_type": "code",
    "id": "x0cYp1r-DbzP"
   },
   "outputs": [],
   "source": [
    "# Normalize to 0-1 range\n",
    "x_train = x_train / 255.\n",
    "x_test = x_test / 255.\n",
    "\n",
    "# Add channels dimension\n",
    "x_train = x_train[..., None]\n",
    "x_test = x_test[..., None]\n",
    "\n",
    "# Pre-process targets\n",
    "n_classes = 10\n",
    "y_train = utils.to_categorical(y_train, n_classes)\n",
    "y_test = utils.to_categorical(y_test, n_classes)"
   ]
  },
  {
   "cell_type": "markdown",
   "metadata": {
    "colab_type": "text",
    "id": "k9fPRpDhDd0v"
   },
   "source": [
    "So far the only difference from the previous model is the way in which we take the input. Let's see how to build a model that knows how to process these images using convolutional layers. "
   ]
  },
  {
   "cell_type": "code",
   "execution_count": null,
   "metadata": {
    "colab": {},
    "colab_type": "code",
    "id": "fFjHVNQwDrhE"
   },
   "outputs": [],
   "source": [
    "from keras.layers import Conv2D, MaxPooling2D, Flatten\n",
    "\n",
    "# Build model\n",
    "model = Sequential()\n",
    "model.add(Conv2D(16, 3, activation='relu', input_shape=(28, 28, 1)))\n",
    "model.add(Conv2D(32, 3, activation='relu'))\n",
    "model.add(MaxPooling2D(pool_size=(2, 2)))\n",
    "model.add(Flatten())\n",
    "model.add(Dense(128, activation='relu'))\n",
    "model.add(Dense(10, activation='softmax'))\n",
    "\n",
    "# Compile the model\n",
    "model.compile(optimizer='adam', \n",
    "              loss='categorical_crossentropy',  \n",
    "              metrics=['accuracy'])"
   ]
  },
  {
   "cell_type": "code",
   "execution_count": null,
   "metadata": {},
   "outputs": [],
   "source": [
    "model.summary()"
   ]
  },
  {
   "cell_type": "markdown",
   "metadata": {
    "colab_type": "text",
    "id": "FUi12s7ID0mU"
   },
   "source": [
    "To train and evaluate the model, we do exactly as we did before."
   ]
  },
  {
   "cell_type": "code",
   "execution_count": null,
   "metadata": {
    "colab": {},
    "colab_type": "code",
    "id": "Qeak03BfD86z"
   },
   "outputs": [],
   "source": [
    "# Train model\n",
    "batch_size = 32\n",
    "epochs = 10\n",
    "model.fit(x_train, \n",
    "          y_train, \n",
    "          batch_size=batch_size, \n",
    "          epochs=epochs)\n",
    "\n",
    "# Evaluate model\n",
    "scores = model.evaluate(x_test, y_test)\n",
    "print('Test loss: {} - Accuracy: {}'.format(*scores))"
   ]
  },
  {
   "cell_type": "markdown",
   "metadata": {
    "colab_type": "text",
    "id": "rKwgS3cZJ85R"
   },
   "source": [
    "Now let's see if the CNN is actually more robust to translations w.r.t. the dense net. We can run the same test as before, by shifting images to the right and evaluating the performance on the shifted test set. "
   ]
  },
  {
   "cell_type": "code",
   "execution_count": null,
   "metadata": {
    "colab": {},
    "colab_type": "code",
    "id": "1YrDP_R0IlTz"
   },
   "outputs": [],
   "source": [
    "# Take the test data and shift its contents to the right by p pixels\n",
    "p = 2\n",
    "x_test_roll = np.roll(x_test, p, axis=2)\n",
    "plt.subplot(121)\n",
    "plt.imshow(x_test[0, ..., 0], cmap='gray')\n",
    "plt.subplot(122)\n",
    "plt.imshow(x_test_roll[0, ..., 0], cmap='gray');\n",
    "\n",
    "# Evaluate the model on the shifted data\n",
    "scores = model.evaluate(x_test_roll, y_test)\n",
    "print('Test loss: {} - Accuracy: {}'.format(*scores))"
   ]
  },
  {
   "cell_type": "markdown",
   "metadata": {},
   "source": [
    "Let's check some of the misclassified images."
   ]
  },
  {
   "cell_type": "code",
   "execution_count": null,
   "metadata": {},
   "outputs": [],
   "source": [
    "fig = plt.figure(figsize=(20, 2))\n",
    "cols = 4\n",
    "miss = 0\n",
    "for i in range(1000):\n",
    "    x = x_test[i]\n",
    "    y = np.argmax(y_test[i])\n",
    "    y_hat = np.argmax(model.predict(x[None]).squeeze())\n",
    "    if y != y_hat:\n",
    "        ax = fig.add_subplot(1, 5, miss + 1)\n",
    "        plt.title('Real class: {} , Predicted class: {}'.format(str(y), str(y_hat)))\n",
    "        plt.imshow(x.squeeze(), cmap='gray')\n",
    "        plt.axis('off')\n",
    "        miss += 1\n",
    "    if miss >= cols:\n",
    "        plt.show()\n",
    "        miss = 0\n",
    "        fig = plt.figure(figsize=(20, 2))"
   ]
  },
  {
   "cell_type": "markdown",
   "metadata": {
    "colab_type": "text",
    "id": "UDzxs62EJRoU"
   },
   "source": [
    "## Extra : Fine-tuning VGG16\n",
    "\n",
    "![alt text](https://neurohive.io/wp-content/uploads/2018/11/vgg16.png)\n",
    "\n",
    "VGG16 is a 16-layer version of the network used by the VGG team in the ILSVRC-2014 (ImageNet) competition. \n",
    "It was one of the first networks that could be properly defined \"deep\", and it is still used today as a pre-packaged deep architecture for computer vision problems. \n",
    "\n",
    "Due to its large number of layers, VGG16 is extremely expensive to train, and requires several hours of compute time on millions of image samples in order to reach a decent classification performance. \n",
    "\n",
    "However, after the 2014 competition, the VGG team publicly released the **trained weights** of the network, so that people could use it for classifiying images without needing to re-train the whole net.   \n",
    "This also means that, while the whole network can only be used for classifying the original 1000 classes of the ILSVRC competition, the convolutional layers of the network can be used as **general-purpose feature extractors** to represent any natural image as a vector. \n",
    "\n",
    "By taking the output of the last pooling layer (or any other intermediate layer), we get an abstract description of the input images, which we then can use as input to a classical dense classifier designed specifically for our task. This process is called **fine-tuning**.\n",
    "\n",
    "For instance, in the following exercise we will take the convolutional block of VGG16, and we will feed its output to a simple binary classifier. This will allow us to train a model for recognizing cats and dogs, using the pre-trained VGG16 as feature extractor for a simpler network that is significantly less expensive to train than the whole VGG16. \n",
    "\n",
    "----\n",
    "\n",
    "For this exercise, we will see some more sophisticated Keras utils for automating the process of loading images from disk. We will also see how we can **augment** our dataset by transforming our images to obtain more variety in the data (e.g., we can flip all images horizontally).\n",
    "\n",
    "Let's start, as always, from the data. \n",
    "We've uploaded a reduced version of [this dataset](https://www.kaggle.com/c/dogs-vs-cats/data) to a SwitchDrive account, and we can download it directly into Colab by using `wget`.\n",
    "\n",
    "The data will be divided in folders as follows: \n",
    "\n",
    "```\n",
    "data/\n",
    " |__train/\n",
    "     |__cats/  # 1000 images\n",
    "     |__dogs/  # 1000 images\n",
    " |__val/\n",
    "     |__cats/  # 500 images\n",
    "     |__dogs/  # 500 images\n",
    " |__test/\n",
    "     |__cats/  # 500 images\n",
    "     |__dogs/  # 500 images\n",
    "```\n",
    "Note that labels are inherently provided by the folder structure."
   ]
  },
  {
   "cell_type": "code",
   "execution_count": null,
   "metadata": {
    "colab": {},
    "colab_type": "code",
    "id": "b5fznCUPPZ4e"
   },
   "outputs": [],
   "source": [
    "# Download the data\n",
    "!wget https://drive.switch.ch/index.php/s/1YR2C31sSkac3gk/download -O data.zip\n",
    "!unzip data.zip"
   ]
  },
  {
   "cell_type": "markdown",
   "metadata": {
    "colab_type": "text",
    "id": "o6SckCPuPikd"
   },
   "source": [
    "We can use Keras' `ImageDataGenerator` class to create an object that will allow us to do several things:\n",
    "\n",
    "1. Read the images from the folders in batches, without keeping the whole dataset in memory;\n",
    "2. Automatically resize, rotate, shift, shear, zoom, and flip the images for us in order to perform data augmentation;\n",
    "3. Automatically create label vectors from the folder structure.\n",
    "\n",
    "See [here](https://keras.io/preprocessing/image/#imagedatagenerator-class) for all possible options for image augmentation."
   ]
  },
  {
   "cell_type": "code",
   "execution_count": null,
   "metadata": {
    "colab": {},
    "colab_type": "code",
    "id": "tbxZPPMwQEDa"
   },
   "outputs": [],
   "source": [
    "from keras.preprocessing.image import ImageDataGenerator\n",
    "import math\n",
    "\n",
    "img_h, img_w = 150, 150  # Dimensions to which we want to rescale our images\n",
    "batch_size = 16          # We specify the batch size here, so that the generator will know how many files to read\n",
    "\n",
    "# Create the ImageDataGenerator for training and val/test images.\n",
    "# Note that we only need to augment the training data.\n",
    "train_datagen = ImageDataGenerator(rescale=1. / 255,\n",
    "                                   shear_range=0.2,\n",
    "                                   zoom_range=0.2,\n",
    "                                   horizontal_flip=True)\n",
    "test_datagen = ImageDataGenerator(rescale=1. / 255)\n",
    "\n",
    "# Create generators for the three data splits\n",
    "train_generator = train_datagen.flow_from_directory(\n",
    "    'data/train',\n",
    "    target_size=(img_h, img_w),\n",
    "    batch_size=batch_size,\n",
    "    class_mode='binary'\n",
    ")\n",
    "validation_generator = test_datagen.flow_from_directory(\n",
    "    'data/val',\n",
    "    target_size=(img_h, img_w),\n",
    "    batch_size=batch_size,\n",
    "    class_mode='binary'\n",
    ")\n",
    "test_generator = test_datagen.flow_from_directory(\n",
    "    'data/test',\n",
    "    target_size=(img_h, img_w),\n",
    "    batch_size=batch_size,\n",
    "    class_mode='binary'\n",
    ")"
   ]
  },
  {
   "cell_type": "markdown",
   "metadata": {
    "colab_type": "text",
    "id": "igoHF6l1R1_a"
   },
   "source": [
    "The VGG16 network architecture and weights [can be easily found online](https://gist.github.com/baraldilorenzo/07d7802847aaad0a35d3), but because it's so popular, it is also included by default in Keras. "
   ]
  },
  {
   "cell_type": "code",
   "execution_count": null,
   "metadata": {
    "colab": {},
    "colab_type": "code",
    "id": "yBwLZCgOSMEH"
   },
   "outputs": [],
   "source": [
    "from keras import applications\n",
    "\n",
    "# Build the VGG16 network and download pre-trained weights.\n",
    "# We remove the last dense layers because we will train our own. The rest of the\n",
    "# network will be \"frozen\", i.e., made not trainable.\n",
    "vgg16 = applications.VGG16(weights='imagenet',  \n",
    "                           include_top=False, \n",
    "                           input_shape=(img_h, img_w, 3))\n",
    "vgg16.trainable = False"
   ]
  },
  {
   "cell_type": "markdown",
   "metadata": {
    "colab_type": "text",
    "id": "jz9U6J-HSReU"
   },
   "source": [
    "We can now use the convolutional part of VGG16 as if it were any other `keras.Layer` (in fact, `keras.Model` inherits from `keras.Layer`). Note that in the last line of code of the previous block, we set the loaded VGG16 model as not trainable. This means that the weights of VGG16 will not be updated during backpropagation (the network is still differentiable, but we do not take the gradient w.r.t. those weights).\n",
    "\n",
    "Let's build a classifier based on the pre-trained VGG16: "
   ]
  },
  {
   "cell_type": "code",
   "execution_count": null,
   "metadata": {
    "colab": {},
    "colab_type": "code",
    "id": "rEuGzid_Srd9"
   },
   "outputs": [],
   "source": [
    "# Build a classifier model to put on top of VGG16 convolutional layers\n",
    "model = Sequential()\n",
    "model.add(vgg16)\n",
    "model.add(Flatten())\n",
    "model.add(Dense(256, activation='relu'))\n",
    "\n",
    "model.add(Dense(1, activation='sigmoid'))\n",
    "\n",
    "# Compile the model\n",
    "model.compile(optimizer='rmsprop', loss='binary_crossentropy', \n",
    "              metrics=['accuracy'])"
   ]
  },
  {
   "cell_type": "markdown",
   "metadata": {
    "colab_type": "text",
    "id": "WgOSEFjxTQg5"
   },
   "source": [
    "And now we train it as usual, except that this time we use the `fit_generator` method of `Model`, and the `generator` object created by `ImageDataGenerator`."
   ]
  },
  {
   "cell_type": "code",
   "execution_count": null,
   "metadata": {
    "colab": {},
    "colab_type": "code",
    "id": "Tk1_gsI0TUGK"
   },
   "outputs": [],
   "source": [
    "# Train the model\n",
    "n_train_samples = 2000\n",
    "n_val_samples = 1000\n",
    "n_test_samples = 1000\n",
    "epochs = 10\n",
    "model.fit_generator(train_generator,\n",
    "                    steps_per_epoch=math.ceil(n_train_samples / batch_size),\n",
    "                    epochs=epochs,\n",
    "                    validation_data=validation_generator,\n",
    "                    validation_steps=math.ceil(n_val_samples / batch_size))\n",
    "\n",
    "# Evaluate model\n",
    "scores = model.evaluate_generator(test_generator, steps=math.ceil(n_test_samples / batch_size))\n",
    "print('Test loss: {} - Accuracy: {}'.format(*scores))"
   ]
  },
  {
   "cell_type": "markdown",
   "metadata": {
    "colab_type": "text",
    "id": "GB_OeBU4VMEe"
   },
   "source": [
    "**Fun fact**: when the \"Cats vs. Dogs\" challenge was first released on Kaggle in 2014, computer vision experts posited that a classifier with better than 80% accuracy would be difficult to achieve without a major advance in the state of the art [[source]](https://www.kaggle.com/c/dogs-vs-cats/overview).\n",
    "\n",
    "As a final step, we can also use the model to classify a single test image as follows:"
   ]
  },
  {
   "cell_type": "code",
   "execution_count": null,
   "metadata": {
    "colab": {},
    "colab_type": "code",
    "id": "FEatX63cXRJh"
   },
   "outputs": [],
   "source": [
    "# Load a cat image\n",
    "from skimage import io, transform\n",
    "img = io.imread('data/test/cats/cat.1999.jpg')\n",
    "img = transform.resize(img, (img_h, img_w))\n",
    "plt.imshow(img);\n",
    "img = img[None, ...]\n",
    "\n",
    "pred = model.predict(img)[0, 0]\n",
    "pred_class = int(np.round(pred))\n",
    "pred_proba = (1 - pred_class) * (1 - pred) + pred_class * pred\n",
    "print('Image was predicted as being of class {} with probability {:2.2f}%.'.format(pred_class, pred_proba * 100))"
   ]
  }
 ],
 "metadata": {
  "accelerator": "GPU",
  "colab": {
   "include_colab_link": true,
   "name": "03_deep_learning",
   "provenance": [],
   "version": "0.3.2"
  },
  "kernelspec": {
   "display_name": "Python 3",
   "language": "python",
   "name": "python3"
  },
  "language_info": {
   "codemirror_mode": {
    "name": "ipython",
    "version": 3
   },
   "file_extension": ".py",
   "mimetype": "text/x-python",
   "name": "python",
   "nbconvert_exporter": "python",
   "pygments_lexer": "ipython3",
   "version": "3.7.4"
  }
 },
 "nbformat": 4,
 "nbformat_minor": 1
}
